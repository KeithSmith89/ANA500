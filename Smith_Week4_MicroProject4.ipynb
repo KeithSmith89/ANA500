{
  "nbformat": 4,
  "nbformat_minor": 0,
  "metadata": {
    "colab": {
      "provenance": []
    },
    "kernelspec": {
      "name": "python3",
      "display_name": "Python 3"
    },
    "language_info": {
      "name": "python"
    }
  },
  "cells": [
    {
      "cell_type": "code",
      "execution_count": 1,
      "metadata": {
        "id": "h_Vb1rxG03kS"
      },
      "outputs": [],
      "source": [
        "import pandas as pd\n",
        "import numpy as np\n",
        "\n",
        "import matplotlib.pyplot as plt\n",
        "import seaborn as sns\n",
        "sns.set_style('whitegrid')\n",
        "plt.style.use(\"fivethirtyeight\")\n",
        "%matplotlib inline\n",
        "\n",
        "# For reading stock data from yahoo\n",
        "from pandas_datareader.data import DataReader\n",
        "import yfinance as yf\n",
        "from pandas_datareader import data as pdr\n",
        "\n",
        "yf.pdr_override()\n",
        "\n",
        "# For time stamps\n",
        "from datetime import datetime"
      ]
    },
    {
      "cell_type": "code",
      "source": [
        "df = pdr.get_data_yahoo('AAPL', start='2012-01-01', end=datetime.now())"
      ],
      "metadata": {
        "colab": {
          "base_uri": "https://localhost:8080/"
        },
        "id": "Bqebpawa1jN-",
        "outputId": "6fa108e1-d70c-4a60-9dd1-6147eac0249c"
      },
      "execution_count": 2,
      "outputs": [
        {
          "output_type": "stream",
          "name": "stdout",
          "text": [
            "\r[*********************100%***********************]  1 of 1 completed\n"
          ]
        }
      ]
    },
    {
      "cell_type": "code",
      "source": [
        "df"
      ],
      "metadata": {
        "colab": {
          "base_uri": "https://localhost:8080/",
          "height": 455
        },
        "id": "8eBRh-EZ1qjk",
        "outputId": "fa925236-373b-4333-febc-4a15b0cef800"
      },
      "execution_count": 3,
      "outputs": [
        {
          "output_type": "execute_result",
          "data": {
            "text/plain": [
              "                  Open        High         Low       Close   Adj Close  \\\n",
              "Date                                                                     \n",
              "2012-01-03   14.621429   14.732143   14.607143   14.686786   12.500190   \n",
              "2012-01-04   14.642857   14.810000   14.617143   14.765714   12.567369   \n",
              "2012-01-05   14.819643   14.948214   14.738214   14.929643   12.706891   \n",
              "2012-01-06   14.991786   15.098214   14.972143   15.085714   12.839729   \n",
              "2012-01-09   15.196429   15.276786   15.048214   15.061786   12.819364   \n",
              "...                ...         ...         ...         ...         ...   \n",
              "2023-02-17  152.350006  153.000000  150.850006  152.550003  152.550003   \n",
              "2023-02-21  150.199997  151.300003  148.410004  148.479996  148.479996   \n",
              "2023-02-22  148.869995  149.949997  147.160004  148.910004  148.910004   \n",
              "2023-02-23  150.089996  150.339996  147.240005  149.399994  149.399994   \n",
              "2023-02-24  147.110001  147.190002  145.720001  146.710007  146.710007   \n",
              "\n",
              "               Volume  \n",
              "Date                   \n",
              "2012-01-03  302220800  \n",
              "2012-01-04  260022000  \n",
              "2012-01-05  271269600  \n",
              "2012-01-06  318292800  \n",
              "2012-01-09  394024400  \n",
              "...               ...  \n",
              "2023-02-17   59095900  \n",
              "2023-02-21   58867200  \n",
              "2023-02-22   51011300  \n",
              "2023-02-23   48394200  \n",
              "2023-02-24   55418200  \n",
              "\n",
              "[2805 rows x 6 columns]"
            ],
            "text/html": [
              "\n",
              "  <div id=\"df-79aa7dcc-43b0-4de6-94ce-6cf501382b5d\">\n",
              "    <div class=\"colab-df-container\">\n",
              "      <div>\n",
              "<style scoped>\n",
              "    .dataframe tbody tr th:only-of-type {\n",
              "        vertical-align: middle;\n",
              "    }\n",
              "\n",
              "    .dataframe tbody tr th {\n",
              "        vertical-align: top;\n",
              "    }\n",
              "\n",
              "    .dataframe thead th {\n",
              "        text-align: right;\n",
              "    }\n",
              "</style>\n",
              "<table border=\"1\" class=\"dataframe\">\n",
              "  <thead>\n",
              "    <tr style=\"text-align: right;\">\n",
              "      <th></th>\n",
              "      <th>Open</th>\n",
              "      <th>High</th>\n",
              "      <th>Low</th>\n",
              "      <th>Close</th>\n",
              "      <th>Adj Close</th>\n",
              "      <th>Volume</th>\n",
              "    </tr>\n",
              "    <tr>\n",
              "      <th>Date</th>\n",
              "      <th></th>\n",
              "      <th></th>\n",
              "      <th></th>\n",
              "      <th></th>\n",
              "      <th></th>\n",
              "      <th></th>\n",
              "    </tr>\n",
              "  </thead>\n",
              "  <tbody>\n",
              "    <tr>\n",
              "      <th>2012-01-03</th>\n",
              "      <td>14.621429</td>\n",
              "      <td>14.732143</td>\n",
              "      <td>14.607143</td>\n",
              "      <td>14.686786</td>\n",
              "      <td>12.500190</td>\n",
              "      <td>302220800</td>\n",
              "    </tr>\n",
              "    <tr>\n",
              "      <th>2012-01-04</th>\n",
              "      <td>14.642857</td>\n",
              "      <td>14.810000</td>\n",
              "      <td>14.617143</td>\n",
              "      <td>14.765714</td>\n",
              "      <td>12.567369</td>\n",
              "      <td>260022000</td>\n",
              "    </tr>\n",
              "    <tr>\n",
              "      <th>2012-01-05</th>\n",
              "      <td>14.819643</td>\n",
              "      <td>14.948214</td>\n",
              "      <td>14.738214</td>\n",
              "      <td>14.929643</td>\n",
              "      <td>12.706891</td>\n",
              "      <td>271269600</td>\n",
              "    </tr>\n",
              "    <tr>\n",
              "      <th>2012-01-06</th>\n",
              "      <td>14.991786</td>\n",
              "      <td>15.098214</td>\n",
              "      <td>14.972143</td>\n",
              "      <td>15.085714</td>\n",
              "      <td>12.839729</td>\n",
              "      <td>318292800</td>\n",
              "    </tr>\n",
              "    <tr>\n",
              "      <th>2012-01-09</th>\n",
              "      <td>15.196429</td>\n",
              "      <td>15.276786</td>\n",
              "      <td>15.048214</td>\n",
              "      <td>15.061786</td>\n",
              "      <td>12.819364</td>\n",
              "      <td>394024400</td>\n",
              "    </tr>\n",
              "    <tr>\n",
              "      <th>...</th>\n",
              "      <td>...</td>\n",
              "      <td>...</td>\n",
              "      <td>...</td>\n",
              "      <td>...</td>\n",
              "      <td>...</td>\n",
              "      <td>...</td>\n",
              "    </tr>\n",
              "    <tr>\n",
              "      <th>2023-02-17</th>\n",
              "      <td>152.350006</td>\n",
              "      <td>153.000000</td>\n",
              "      <td>150.850006</td>\n",
              "      <td>152.550003</td>\n",
              "      <td>152.550003</td>\n",
              "      <td>59095900</td>\n",
              "    </tr>\n",
              "    <tr>\n",
              "      <th>2023-02-21</th>\n",
              "      <td>150.199997</td>\n",
              "      <td>151.300003</td>\n",
              "      <td>148.410004</td>\n",
              "      <td>148.479996</td>\n",
              "      <td>148.479996</td>\n",
              "      <td>58867200</td>\n",
              "    </tr>\n",
              "    <tr>\n",
              "      <th>2023-02-22</th>\n",
              "      <td>148.869995</td>\n",
              "      <td>149.949997</td>\n",
              "      <td>147.160004</td>\n",
              "      <td>148.910004</td>\n",
              "      <td>148.910004</td>\n",
              "      <td>51011300</td>\n",
              "    </tr>\n",
              "    <tr>\n",
              "      <th>2023-02-23</th>\n",
              "      <td>150.089996</td>\n",
              "      <td>150.339996</td>\n",
              "      <td>147.240005</td>\n",
              "      <td>149.399994</td>\n",
              "      <td>149.399994</td>\n",
              "      <td>48394200</td>\n",
              "    </tr>\n",
              "    <tr>\n",
              "      <th>2023-02-24</th>\n",
              "      <td>147.110001</td>\n",
              "      <td>147.190002</td>\n",
              "      <td>145.720001</td>\n",
              "      <td>146.710007</td>\n",
              "      <td>146.710007</td>\n",
              "      <td>55418200</td>\n",
              "    </tr>\n",
              "  </tbody>\n",
              "</table>\n",
              "<p>2805 rows × 6 columns</p>\n",
              "</div>\n",
              "      <button class=\"colab-df-convert\" onclick=\"convertToInteractive('df-79aa7dcc-43b0-4de6-94ce-6cf501382b5d')\"\n",
              "              title=\"Convert this dataframe to an interactive table.\"\n",
              "              style=\"display:none;\">\n",
              "        \n",
              "  <svg xmlns=\"http://www.w3.org/2000/svg\" height=\"24px\"viewBox=\"0 0 24 24\"\n",
              "       width=\"24px\">\n",
              "    <path d=\"M0 0h24v24H0V0z\" fill=\"none\"/>\n",
              "    <path d=\"M18.56 5.44l.94 2.06.94-2.06 2.06-.94-2.06-.94-.94-2.06-.94 2.06-2.06.94zm-11 1L8.5 8.5l.94-2.06 2.06-.94-2.06-.94L8.5 2.5l-.94 2.06-2.06.94zm10 10l.94 2.06.94-2.06 2.06-.94-2.06-.94-.94-2.06-.94 2.06-2.06.94z\"/><path d=\"M17.41 7.96l-1.37-1.37c-.4-.4-.92-.59-1.43-.59-.52 0-1.04.2-1.43.59L10.3 9.45l-7.72 7.72c-.78.78-.78 2.05 0 2.83L4 21.41c.39.39.9.59 1.41.59.51 0 1.02-.2 1.41-.59l7.78-7.78 2.81-2.81c.8-.78.8-2.07 0-2.86zM5.41 20L4 18.59l7.72-7.72 1.47 1.35L5.41 20z\"/>\n",
              "  </svg>\n",
              "      </button>\n",
              "      \n",
              "  <style>\n",
              "    .colab-df-container {\n",
              "      display:flex;\n",
              "      flex-wrap:wrap;\n",
              "      gap: 12px;\n",
              "    }\n",
              "\n",
              "    .colab-df-convert {\n",
              "      background-color: #E8F0FE;\n",
              "      border: none;\n",
              "      border-radius: 50%;\n",
              "      cursor: pointer;\n",
              "      display: none;\n",
              "      fill: #1967D2;\n",
              "      height: 32px;\n",
              "      padding: 0 0 0 0;\n",
              "      width: 32px;\n",
              "    }\n",
              "\n",
              "    .colab-df-convert:hover {\n",
              "      background-color: #E2EBFA;\n",
              "      box-shadow: 0px 1px 2px rgba(60, 64, 67, 0.3), 0px 1px 3px 1px rgba(60, 64, 67, 0.15);\n",
              "      fill: #174EA6;\n",
              "    }\n",
              "\n",
              "    [theme=dark] .colab-df-convert {\n",
              "      background-color: #3B4455;\n",
              "      fill: #D2E3FC;\n",
              "    }\n",
              "\n",
              "    [theme=dark] .colab-df-convert:hover {\n",
              "      background-color: #434B5C;\n",
              "      box-shadow: 0px 1px 3px 1px rgba(0, 0, 0, 0.15);\n",
              "      filter: drop-shadow(0px 1px 2px rgba(0, 0, 0, 0.3));\n",
              "      fill: #FFFFFF;\n",
              "    }\n",
              "  </style>\n",
              "\n",
              "      <script>\n",
              "        const buttonEl =\n",
              "          document.querySelector('#df-79aa7dcc-43b0-4de6-94ce-6cf501382b5d button.colab-df-convert');\n",
              "        buttonEl.style.display =\n",
              "          google.colab.kernel.accessAllowed ? 'block' : 'none';\n",
              "\n",
              "        async function convertToInteractive(key) {\n",
              "          const element = document.querySelector('#df-79aa7dcc-43b0-4de6-94ce-6cf501382b5d');\n",
              "          const dataTable =\n",
              "            await google.colab.kernel.invokeFunction('convertToInteractive',\n",
              "                                                     [key], {});\n",
              "          if (!dataTable) return;\n",
              "\n",
              "          const docLinkHtml = 'Like what you see? Visit the ' +\n",
              "            '<a target=\"_blank\" href=https://colab.research.google.com/notebooks/data_table.ipynb>data table notebook</a>'\n",
              "            + ' to learn more about interactive tables.';\n",
              "          element.innerHTML = '';\n",
              "          dataTable['output_type'] = 'display_data';\n",
              "          await google.colab.output.renderOutput(dataTable, element);\n",
              "          const docLink = document.createElement('div');\n",
              "          docLink.innerHTML = docLinkHtml;\n",
              "          element.appendChild(docLink);\n",
              "        }\n",
              "      </script>\n",
              "    </div>\n",
              "  </div>\n",
              "  "
            ]
          },
          "metadata": {},
          "execution_count": 3
        }
      ]
    },
    {
      "cell_type": "code",
      "source": [
        "df.describe()"
      ],
      "metadata": {
        "colab": {
          "base_uri": "https://localhost:8080/",
          "height": 300
        },
        "id": "_5uVjlwRDXEe",
        "outputId": "c4f800dd-5ac6-4e18-a985-a50c902a73e2"
      },
      "execution_count": 31,
      "outputs": [
        {
          "output_type": "execute_result",
          "data": {
            "text/plain": [
              "              Open         High          Low        Close    Adj Close  \\\n",
              "count  2805.000000  2805.000000  2805.000000  2805.000000  2805.000000   \n",
              "mean     59.711983    60.388770    59.056136    59.749358    57.797628   \n",
              "std      48.597229    49.241364    47.982251    48.641368    49.178756   \n",
              "min      13.856071    14.271429    13.753571    13.947500    12.046193   \n",
              "25%      24.241072    24.459999    24.017500    24.240000    22.036524   \n",
              "50%      38.400002    38.560001    38.000000    38.327499    36.252605   \n",
              "75%      80.062500    80.849998    79.327499    79.902496    78.447800   \n",
              "max     182.630005   182.940002   179.119995   182.009995   180.683868   \n",
              "\n",
              "             Volume  \n",
              "count  2.805000e+03  \n",
              "mean   2.018140e+08  \n",
              "std    1.713132e+08  \n",
              "min    3.519590e+07  \n",
              "25%    9.415480e+07  \n",
              "50%    1.377592e+08  \n",
              "75%    2.447060e+08  \n",
              "max    1.506120e+09  "
            ],
            "text/html": [
              "\n",
              "  <div id=\"df-6c76bd44-3e6c-4b41-ad46-49f04784d516\">\n",
              "    <div class=\"colab-df-container\">\n",
              "      <div>\n",
              "<style scoped>\n",
              "    .dataframe tbody tr th:only-of-type {\n",
              "        vertical-align: middle;\n",
              "    }\n",
              "\n",
              "    .dataframe tbody tr th {\n",
              "        vertical-align: top;\n",
              "    }\n",
              "\n",
              "    .dataframe thead th {\n",
              "        text-align: right;\n",
              "    }\n",
              "</style>\n",
              "<table border=\"1\" class=\"dataframe\">\n",
              "  <thead>\n",
              "    <tr style=\"text-align: right;\">\n",
              "      <th></th>\n",
              "      <th>Open</th>\n",
              "      <th>High</th>\n",
              "      <th>Low</th>\n",
              "      <th>Close</th>\n",
              "      <th>Adj Close</th>\n",
              "      <th>Volume</th>\n",
              "    </tr>\n",
              "  </thead>\n",
              "  <tbody>\n",
              "    <tr>\n",
              "      <th>count</th>\n",
              "      <td>2805.000000</td>\n",
              "      <td>2805.000000</td>\n",
              "      <td>2805.000000</td>\n",
              "      <td>2805.000000</td>\n",
              "      <td>2805.000000</td>\n",
              "      <td>2.805000e+03</td>\n",
              "    </tr>\n",
              "    <tr>\n",
              "      <th>mean</th>\n",
              "      <td>59.711983</td>\n",
              "      <td>60.388770</td>\n",
              "      <td>59.056136</td>\n",
              "      <td>59.749358</td>\n",
              "      <td>57.797628</td>\n",
              "      <td>2.018140e+08</td>\n",
              "    </tr>\n",
              "    <tr>\n",
              "      <th>std</th>\n",
              "      <td>48.597229</td>\n",
              "      <td>49.241364</td>\n",
              "      <td>47.982251</td>\n",
              "      <td>48.641368</td>\n",
              "      <td>49.178756</td>\n",
              "      <td>1.713132e+08</td>\n",
              "    </tr>\n",
              "    <tr>\n",
              "      <th>min</th>\n",
              "      <td>13.856071</td>\n",
              "      <td>14.271429</td>\n",
              "      <td>13.753571</td>\n",
              "      <td>13.947500</td>\n",
              "      <td>12.046193</td>\n",
              "      <td>3.519590e+07</td>\n",
              "    </tr>\n",
              "    <tr>\n",
              "      <th>25%</th>\n",
              "      <td>24.241072</td>\n",
              "      <td>24.459999</td>\n",
              "      <td>24.017500</td>\n",
              "      <td>24.240000</td>\n",
              "      <td>22.036524</td>\n",
              "      <td>9.415480e+07</td>\n",
              "    </tr>\n",
              "    <tr>\n",
              "      <th>50%</th>\n",
              "      <td>38.400002</td>\n",
              "      <td>38.560001</td>\n",
              "      <td>38.000000</td>\n",
              "      <td>38.327499</td>\n",
              "      <td>36.252605</td>\n",
              "      <td>1.377592e+08</td>\n",
              "    </tr>\n",
              "    <tr>\n",
              "      <th>75%</th>\n",
              "      <td>80.062500</td>\n",
              "      <td>80.849998</td>\n",
              "      <td>79.327499</td>\n",
              "      <td>79.902496</td>\n",
              "      <td>78.447800</td>\n",
              "      <td>2.447060e+08</td>\n",
              "    </tr>\n",
              "    <tr>\n",
              "      <th>max</th>\n",
              "      <td>182.630005</td>\n",
              "      <td>182.940002</td>\n",
              "      <td>179.119995</td>\n",
              "      <td>182.009995</td>\n",
              "      <td>180.683868</td>\n",
              "      <td>1.506120e+09</td>\n",
              "    </tr>\n",
              "  </tbody>\n",
              "</table>\n",
              "</div>\n",
              "      <button class=\"colab-df-convert\" onclick=\"convertToInteractive('df-6c76bd44-3e6c-4b41-ad46-49f04784d516')\"\n",
              "              title=\"Convert this dataframe to an interactive table.\"\n",
              "              style=\"display:none;\">\n",
              "        \n",
              "  <svg xmlns=\"http://www.w3.org/2000/svg\" height=\"24px\"viewBox=\"0 0 24 24\"\n",
              "       width=\"24px\">\n",
              "    <path d=\"M0 0h24v24H0V0z\" fill=\"none\"/>\n",
              "    <path d=\"M18.56 5.44l.94 2.06.94-2.06 2.06-.94-2.06-.94-.94-2.06-.94 2.06-2.06.94zm-11 1L8.5 8.5l.94-2.06 2.06-.94-2.06-.94L8.5 2.5l-.94 2.06-2.06.94zm10 10l.94 2.06.94-2.06 2.06-.94-2.06-.94-.94-2.06-.94 2.06-2.06.94z\"/><path d=\"M17.41 7.96l-1.37-1.37c-.4-.4-.92-.59-1.43-.59-.52 0-1.04.2-1.43.59L10.3 9.45l-7.72 7.72c-.78.78-.78 2.05 0 2.83L4 21.41c.39.39.9.59 1.41.59.51 0 1.02-.2 1.41-.59l7.78-7.78 2.81-2.81c.8-.78.8-2.07 0-2.86zM5.41 20L4 18.59l7.72-7.72 1.47 1.35L5.41 20z\"/>\n",
              "  </svg>\n",
              "      </button>\n",
              "      \n",
              "  <style>\n",
              "    .colab-df-container {\n",
              "      display:flex;\n",
              "      flex-wrap:wrap;\n",
              "      gap: 12px;\n",
              "    }\n",
              "\n",
              "    .colab-df-convert {\n",
              "      background-color: #E8F0FE;\n",
              "      border: none;\n",
              "      border-radius: 50%;\n",
              "      cursor: pointer;\n",
              "      display: none;\n",
              "      fill: #1967D2;\n",
              "      height: 32px;\n",
              "      padding: 0 0 0 0;\n",
              "      width: 32px;\n",
              "    }\n",
              "\n",
              "    .colab-df-convert:hover {\n",
              "      background-color: #E2EBFA;\n",
              "      box-shadow: 0px 1px 2px rgba(60, 64, 67, 0.3), 0px 1px 3px 1px rgba(60, 64, 67, 0.15);\n",
              "      fill: #174EA6;\n",
              "    }\n",
              "\n",
              "    [theme=dark] .colab-df-convert {\n",
              "      background-color: #3B4455;\n",
              "      fill: #D2E3FC;\n",
              "    }\n",
              "\n",
              "    [theme=dark] .colab-df-convert:hover {\n",
              "      background-color: #434B5C;\n",
              "      box-shadow: 0px 1px 3px 1px rgba(0, 0, 0, 0.15);\n",
              "      filter: drop-shadow(0px 1px 2px rgba(0, 0, 0, 0.3));\n",
              "      fill: #FFFFFF;\n",
              "    }\n",
              "  </style>\n",
              "\n",
              "      <script>\n",
              "        const buttonEl =\n",
              "          document.querySelector('#df-6c76bd44-3e6c-4b41-ad46-49f04784d516 button.colab-df-convert');\n",
              "        buttonEl.style.display =\n",
              "          google.colab.kernel.accessAllowed ? 'block' : 'none';\n",
              "\n",
              "        async function convertToInteractive(key) {\n",
              "          const element = document.querySelector('#df-6c76bd44-3e6c-4b41-ad46-49f04784d516');\n",
              "          const dataTable =\n",
              "            await google.colab.kernel.invokeFunction('convertToInteractive',\n",
              "                                                     [key], {});\n",
              "          if (!dataTable) return;\n",
              "\n",
              "          const docLinkHtml = 'Like what you see? Visit the ' +\n",
              "            '<a target=\"_blank\" href=https://colab.research.google.com/notebooks/data_table.ipynb>data table notebook</a>'\n",
              "            + ' to learn more about interactive tables.';\n",
              "          element.innerHTML = '';\n",
              "          dataTable['output_type'] = 'display_data';\n",
              "          await google.colab.output.renderOutput(dataTable, element);\n",
              "          const docLink = document.createElement('div');\n",
              "          docLink.innerHTML = docLinkHtml;\n",
              "          element.appendChild(docLink);\n",
              "        }\n",
              "      </script>\n",
              "    </div>\n",
              "  </div>\n",
              "  "
            ]
          },
          "metadata": {},
          "execution_count": 31
        }
      ]
    },
    {
      "cell_type": "code",
      "source": [
        "plt.figure(figsize=(16,6))\n",
        "plt.title('Closing Price Over Time')\n",
        "plt.plot(df['Close'])\n",
        "plt.xlabel('Date', fontsize=18)\n",
        "plt.ylabel('Closing Price USD', fontsize=18)\n",
        "plt.show()"
      ],
      "metadata": {
        "colab": {
          "base_uri": "https://localhost:8080/",
          "height": 410
        },
        "id": "wkUDw0tQ1u_n",
        "outputId": "4870d838-6de9-4307-a158-24369ac43d79"
      },
      "execution_count": 4,
      "outputs": [
        {
          "output_type": "display_data",
          "data": {
            "text/plain": [
              "<Figure size 1152x432 with 1 Axes>"
            ],
            "image/png": "[encoded data removed]"
          },
          "metadata": {
            "needs_background": "light"
          }
        }
      ]
    },
    {
      "cell_type": "code",
      "source": [
        "data = df.filter(['Close'])"
      ],
      "metadata": {
        "id": "wP-UQXdv17MH"
      },
      "execution_count": 5,
      "outputs": []
    },
    {
      "cell_type": "code",
      "source": [
        "dataset = data.values\n",
        "dataset"
      ],
      "metadata": {
        "colab": {
          "base_uri": "https://localhost:8080/"
        },
        "id": "a38zE6vF19g9",
        "outputId": "f1f63edb-3244-4ee0-df9a-92046bdf61c2"
      },
      "execution_count": 18,
      "outputs": [
        {
          "output_type": "execute_result",
          "data": {
            "text/plain": [
              "array([[ 14.6867857 ],\n",
              "       [ 14.76571369],\n",
              "       [ 14.92964268],\n",
              "       ...,\n",
              "       [148.91000366],\n",
              "       [149.3999939 ],\n",
              "       [146.71000671]])"
            ]
          },
          "metadata": {},
          "execution_count": 18
        }
      ]
    },
    {
      "cell_type": "code",
      "source": [
        "df1 = pd.DataFrame(dataset)\n",
        "df1['Rolling_Average'] = df1.rolling(7).mean()\n",
        "df1['Rolling SD'] = df1.iloc[:, 0].rolling(7).std()\n",
        "print(df1)\n",
        "\n",
        "plt.figure(figsize=(16,6))\n",
        "plt.title('Rolling Average and Standard Deviation')\n",
        "plt.xlabel('Time', fontsize=18)\n",
        "plt.ylabel('Value USD ($)', fontsize=18)\n",
        "plt.plot(df1['Rolling_Average'])\n",
        "plt.plot(df1[['Rolling SD']])\n",
        "plt.legend(['Rolling_Average', 'Rolling SD'], loc='lower right')\n",
        "plt.show()\n",
        "\n"
      ],
      "metadata": {
        "colab": {
          "base_uri": "https://localhost:8080/",
          "height": 660
        },
        "id": "PZA2xti670K5",
        "outputId": "39e40ac9-0156-4e13-baea-21dbed9bae3f"
      },
      "execution_count": 30,
      "outputs": [
        {
          "output_type": "stream",
          "name": "stdout",
          "text": [
            "               0  Rolling_Average  Rolling SD\n",
            "0      14.686786              NaN         NaN\n",
            "1      14.765714              NaN         NaN\n",
            "2      14.929643              NaN         NaN\n",
            "3      15.085714              NaN         NaN\n",
            "4      15.061786              NaN         NaN\n",
            "...          ...              ...         ...\n",
            "2800  152.550003       152.931429    1.600112\n",
            "2801  148.479996       152.590001    2.240234\n",
            "2802  148.910004       152.290002    2.598969\n",
            "2803  149.399994       151.654286    2.696215\n",
            "2804  146.710007       150.727145    3.153225\n",
            "\n",
            "[2805 rows x 3 columns]\n"
          ]
        },
        {
          "output_type": "display_data",
          "data": {
            "text/plain": [
              "<Figure size 1152x432 with 1 Axes>"
            ],
            "image/png": "[encoded data removed]"
          },
          "metadata": {
            "needs_background": "light"
          }
        }
      ]
    },
    {
      "cell_type": "code",
      "source": [
        "from statsmodels.tsa.stattools import adfuller\n",
        "adfuller(dataset)"
      ],
      "metadata": {
        "colab": {
          "base_uri": "https://localhost:8080/"
        },
        "id": "R6h95Orj6gl3",
        "outputId": "ee039b40-c37a-4443-fd8d-c04025bf2561"
      },
      "execution_count": 16,
      "outputs": [
        {
          "output_type": "execute_result",
          "data": {
            "text/plain": [
              "(-0.047934150172252145,\n",
              " 0.9543838375625684,\n",
              " 22,\n",
              " 2782,\n",
              " {'1%': -3.432702747682219,\n",
              "  '5%': -2.862579477749862,\n",
              "  '10%': -2.56732334640735},\n",
              " 10265.52140437092)"
            ]
          },
          "metadata": {},
          "execution_count": 16
        }
      ]
    },
    {
      "cell_type": "code",
      "source": [
        "training_data_len = int(np.ceil( len(dataset) * .75 ))"
      ],
      "metadata": {
        "id": "V6859b8M2AcF"
      },
      "execution_count": 8,
      "outputs": []
    },
    {
      "cell_type": "code",
      "source": [
        "training_data_len"
      ],
      "metadata": {
        "colab": {
          "base_uri": "https://localhost:8080/"
        },
        "id": "Mczpfz072FDC",
        "outputId": "627be49d-04e6-452d-fd3a-5c780b4eff17"
      },
      "execution_count": 9,
      "outputs": [
        {
          "output_type": "execute_result",
          "data": {
            "text/plain": [
              "2104"
            ]
          },
          "metadata": {},
          "execution_count": 9
        }
      ]
    },
    {
      "cell_type": "code",
      "source": [
        "from sklearn.preprocessing import MinMaxScaler\n",
        "\n",
        "scaler = MinMaxScaler(feature_range=(0,1))\n",
        "scaled_data = scaler.fit_transform(dataset)\n",
        "\n",
        "scaled_data"
      ],
      "metadata": {
        "colab": {
          "base_uri": "https://localhost:8080/"
        },
        "id": "EYxyudVn2JMH",
        "outputId": "7372a297-a27f-4439-f3d1-2671b042d458"
      },
      "execution_count": 10,
      "outputs": [
        {
          "output_type": "execute_result",
          "data": {
            "text/plain": [
              "array([[0.00439887],\n",
              "       [0.00486851],\n",
              "       [0.00584391],\n",
              "       ...,\n",
              "       [0.80304951],\n",
              "       [0.80596503],\n",
              "       [0.78995916]])"
            ]
          },
          "metadata": {},
          "execution_count": 10
        }
      ]
    },
    {
      "cell_type": "code",
      "source": [
        "train_data = scaled_data[0:int(training_data_len), :]\n",
        "\n",
        "x_train = []\n",
        "y_train = []\n",
        "\n",
        "for i in range(60, len(train_data)):\n",
        "    x_train.append(train_data[i-60:i, 0])\n",
        "    y_train.append(train_data[i, 0])\n",
        "    if i<= 61:\n",
        "        print(x_train)\n",
        "        print(y_train)\n",
        "        print()\n",
        "        \n",
        "\n",
        "x_train, y_train = np.array(x_train), np.array(y_train)\n",
        "\n",
        "\n",
        "x_train = np.reshape(x_train, (x_train.shape[0], x_train.shape[1], 1))\n"
      ],
      "metadata": {
        "colab": {
          "base_uri": "https://localhost:8080/"
        },
        "id": "7luRi5jb2K8Y",
        "outputId": "b43b7308-b0c2-444a-c82d-5fd21d53ab07"
      },
      "execution_count": 11,
      "outputs": [
        {
          "output_type": "stream",
          "name": "stdout",
          "text": [
            "[array([0.00439887, 0.00486851, 0.00584391, 0.00677256, 0.00663019,\n",
            "       0.00695107, 0.00680444, 0.00655793, 0.00622217, 0.00726133,\n",
            "       0.00819848, 0.00790947, 0.0063263 , 0.00783722, 0.00634968,\n",
            "       0.01192796, 0.01149658, 0.01205972, 0.01327737, 0.01401476,\n",
            "       0.01395314, 0.01372576, 0.01469479, 0.01560643, 0.01663922,\n",
            "       0.01830739, 0.02181161, 0.02186474, 0.02381555, 0.02527333,\n",
            "       0.0227679 , 0.02373267, 0.02371354, 0.02641875, 0.02603411,\n",
            "       0.026746  , 0.02802528, 0.02873719, 0.03078787, 0.03228178,\n",
            "       0.03271317, 0.03286405, 0.03030973, 0.02969346, 0.02978484,\n",
            "       0.03218616, 0.03286193, 0.03431335, 0.03773469, 0.04229932,\n",
            "       0.04144504, 0.04144716, 0.04474738, 0.04578017, 0.04504489,\n",
            "       0.04437338, 0.04367423, 0.04599691, 0.04759072, 0.04825798])]\n",
            "[0.04660893460974819]\n",
            "\n",
            "[array([0.00439887, 0.00486851, 0.00584391, 0.00677256, 0.00663019,\n",
            "       0.00695107, 0.00680444, 0.00655793, 0.00622217, 0.00726133,\n",
            "       0.00819848, 0.00790947, 0.0063263 , 0.00783722, 0.00634968,\n",
            "       0.01192796, 0.01149658, 0.01205972, 0.01327737, 0.01401476,\n",
            "       0.01395314, 0.01372576, 0.01469479, 0.01560643, 0.01663922,\n",
            "       0.01830739, 0.02181161, 0.02186474, 0.02381555, 0.02527333,\n",
            "       0.0227679 , 0.02373267, 0.02371354, 0.02641875, 0.02603411,\n",
            "       0.026746  , 0.02802528, 0.02873719, 0.03078787, 0.03228178,\n",
            "       0.03271317, 0.03286405, 0.03030973, 0.02969346, 0.02978484,\n",
            "       0.03218616, 0.03286193, 0.03431335, 0.03773469, 0.04229932,\n",
            "       0.04144504, 0.04144716, 0.04474738, 0.04578017, 0.04504489,\n",
            "       0.04437338, 0.04367423, 0.04599691, 0.04759072, 0.04825798]), array([0.00486851, 0.00584391, 0.00677256, 0.00663019, 0.00695107,\n",
            "       0.00680444, 0.00655793, 0.00622217, 0.00726133, 0.00819848,\n",
            "       0.00790947, 0.0063263 , 0.00783722, 0.00634968, 0.01192796,\n",
            "       0.01149658, 0.01205972, 0.01327737, 0.01401476, 0.01395314,\n",
            "       0.01372576, 0.01469479, 0.01560643, 0.01663922, 0.01830739,\n",
            "       0.02181161, 0.02186474, 0.02381555, 0.02527333, 0.0227679 ,\n",
            "       0.02373267, 0.02371354, 0.02641875, 0.02603411, 0.026746  ,\n",
            "       0.02802528, 0.02873719, 0.03078787, 0.03228178, 0.03271317,\n",
            "       0.03286405, 0.03030973, 0.02969346, 0.02978484, 0.03218616,\n",
            "       0.03286193, 0.03431335, 0.03773469, 0.04229932, 0.04144504,\n",
            "       0.04144716, 0.04474738, 0.04578017, 0.04504489, 0.04437338,\n",
            "       0.04367423, 0.04599691, 0.04759072, 0.04825798, 0.04660893])]\n",
            "[0.04660893460974819, 0.04441800167645807]\n",
            "\n"
          ]
        }
      ]
    },
    {
      "cell_type": "code",
      "source": [
        "from keras.models import Sequential\n",
        "from keras.layers import Dense, LSTM\n",
        "\n",
        "model = Sequential()\n",
        "model.add(LSTM(128, return_sequences=True, input_shape= (x_train.shape[1], 1)))\n",
        "model.add(LSTM(64, return_sequences=False))\n",
        "model.add(Dense(25))\n",
        "model.add(Dense(1))\n",
        "\n",
        "model.compile(optimizer='adam', loss='mean_squared_error')\n",
        "\n",
        "model.fit(x_train, y_train, batch_size=1, epochs=5)"
      ],
      "metadata": {
        "colab": {
          "base_uri": "https://localhost:8080/"
        },
        "id": "rQVSPXT12UwH",
        "outputId": "8b5247d2-17b5-4ba1-87ca-3a8304089c83"
      },
      "execution_count": 12,
      "outputs": [
        {
          "output_type": "stream",
          "name": "stdout",
          "text": [
            "Epoch 1/5\n",
            "2044/2044 [==============================] - 83s 39ms/step - loss: 2.6186e-04\n",
            "Epoch 2/5\n",
            "2044/2044 [==============================] - 79s 39ms/step - loss: 1.2543e-04\n",
            "Epoch 3/5\n",
            "2044/2044 [==============================] - 82s 40ms/step - loss: 9.5280e-05\n",
            "Epoch 4/5\n",
            "2044/2044 [==============================] - 80s 39ms/step - loss: 7.7058e-05\n",
            "Epoch 5/5\n",
            "2044/2044 [==============================] - 81s 40ms/step - loss: 7.2238e-05\n"
          ]
        },
        {
          "output_type": "execute_result",
          "data": {
            "text/plain": [
              "<keras.callbacks.History at 0x7f5e910c50d0>"
            ]
          },
          "metadata": {},
          "execution_count": 12
        }
      ]
    },
    {
      "cell_type": "code",
      "source": [
        "test_data = scaled_data[training_data_len - 60: , :]\n",
        "\n",
        "x_test = []\n",
        "y_test = dataset[training_data_len:, :]\n",
        "for i in range(60, len(test_data)):\n",
        "    x_test.append(test_data[i-60:i, 0])\n",
        "\n",
        "x_test = np.array(x_test)\n",
        "\n",
        "x_test = np.reshape(x_test, (x_test.shape[0], x_test.shape[1], 1 ))\n",
        "\n",
        "predictions = model.predict(x_test)\n",
        "predictions = scaler.inverse_transform(predictions)\n",
        "\n",
        "rmse = np.sqrt(np.mean(((predictions - y_test) ** 2)))\n",
        "rmse"
      ],
      "metadata": {
        "colab": {
          "base_uri": "https://localhost:8080/"
        },
        "id": "TTg1CGI94PYx",
        "outputId": "7d8864dd-0fe7-4143-e6d0-d1030d026ed1"
      },
      "execution_count": 13,
      "outputs": [
        {
          "output_type": "stream",
          "name": "stdout",
          "text": [
            "22/22 [==============================] - 2s 40ms/step\n"
          ]
        },
        {
          "output_type": "execute_result",
          "data": {
            "text/plain": [
              "5.100942309287826"
            ]
          },
          "metadata": {},
          "execution_count": 13
        }
      ]
    },
    {
      "cell_type": "code",
      "source": [
        "train = data[:training_data_len]\n",
        "valid = data[training_data_len:]\n",
        "valid['Predictions'] = predictions\n",
        "\n",
        "\n",
        "plt.figure(figsize=(16,6))\n",
        "plt.title('RNN Model')\n",
        "plt.xlabel('Date', fontsize=18)\n",
        "plt.ylabel('Closing Price USD ($)', fontsize=18)\n",
        "plt.plot(train['Close'])\n",
        "plt.plot(valid[['Close', 'Predictions']])\n",
        "plt.legend(['Train', 'Val', 'Predictions'], loc='lower right')\n",
        "plt.show()"
      ],
      "metadata": {
        "colab": {
          "base_uri": "https://localhost:8080/",
          "height": 517
        },
        "id": "BuV5ycTA4e_W",
        "outputId": "21242122-33d9-4ff6-fbfc-3482a9a5fcbd"
      },
      "execution_count": 14,
      "outputs": [
        {
          "output_type": "stream",
          "name": "stderr",
          "text": [
            "<ipython-input-14-79626df48c10>:3: SettingWithCopyWarning: \n",
            "A value is trying to be set on a copy of a slice from a DataFrame.\n",
            "Try using .loc[row_indexer,col_indexer] = value instead\n",
            "\n",
            "See the caveats in the documentation: https://pandas.pydata.org/pandas-docs/stable/user_guide/indexing.html#returning-a-view-versus-a-copy\n",
            "  valid['Predictions'] = predictions\n"
          ]
        },
        {
          "output_type": "display_data",
          "data": {
            "text/plain": [
              "<Figure size 1152x432 with 1 Axes>"
            ],
            "image/png": "[encoded data removed]"
          },
          "metadata": {
            "needs_background": "light"
          }
        }
      ]
    },
    {
      "cell_type": "code",
      "source": [
        "valid"
      ],
      "metadata": {
        "colab": {
          "base_uri": "https://localhost:8080/",
          "height": 455
        },
        "id": "NI-7Bkd44y89",
        "outputId": "7c849876-7cc5-496c-b9dc-70798fd5bf17"
      },
      "execution_count": 15,
      "outputs": [
        {
          "output_type": "execute_result",
          "data": {
            "text/plain": [
              "                 Close  Predictions\n",
              "Date                               \n",
              "2020-05-14   77.385002    75.675705\n",
              "2020-05-15   76.927498    75.873383\n",
              "2020-05-18   78.739998    75.507790\n",
              "2020-05-19   78.285004    76.907516\n",
              "2020-05-20   79.807503    76.798904\n",
              "...                ...          ...\n",
              "2023-02-17  152.550003   148.932480\n",
              "2023-02-21  148.479996   147.889999\n",
              "2023-02-22  148.910004   144.316437\n",
              "2023-02-23  149.399994   144.291306\n",
              "2023-02-24  146.710007   144.638840\n",
              "\n",
              "[701 rows x 2 columns]"
            ],
            "text/html": [
              "\n",
              "  <div id=\"df-13ab42af-276e-4406-b871-4c5949bc5b93\">\n",
              "    <div class=\"colab-df-container\">\n",
              "      <div>\n",
              "<style scoped>\n",
              "    .dataframe tbody tr th:only-of-type {\n",
              "        vertical-align: middle;\n",
              "    }\n",
              "\n",
              "    .dataframe tbody tr th {\n",
              "        vertical-align: top;\n",
              "    }\n",
              "\n",
              "    .dataframe thead th {\n",
              "        text-align: right;\n",
              "    }\n",
              "</style>\n",
              "<table border=\"1\" class=\"dataframe\">\n",
              "  <thead>\n",
              "    <tr style=\"text-align: right;\">\n",
              "      <th></th>\n",
              "      <th>Close</th>\n",
              "      <th>Predictions</th>\n",
              "    </tr>\n",
              "    <tr>\n",
              "      <th>Date</th>\n",
              "      <th></th>\n",
              "      <th></th>\n",
              "    </tr>\n",
              "  </thead>\n",
              "  <tbody>\n",
              "    <tr>\n",
              "      <th>2020-05-14</th>\n",
              "      <td>77.385002</td>\n",
              "      <td>75.675705</td>\n",
              "    </tr>\n",
              "    <tr>\n",
              "      <th>2020-05-15</th>\n",
              "      <td>76.927498</td>\n",
              "      <td>75.873383</td>\n",
              "    </tr>\n",
              "    <tr>\n",
              "      <th>2020-05-18</th>\n",
              "      <td>78.739998</td>\n",
              "      <td>75.507790</td>\n",
              "    </tr>\n",
              "    <tr>\n",
              "      <th>2020-05-19</th>\n",
              "      <td>78.285004</td>\n",
              "      <td>76.907516</td>\n",
              "    </tr>\n",
              "    <tr>\n",
              "      <th>2020-05-20</th>\n",
              "      <td>79.807503</td>\n",
              "      <td>76.798904</td>\n",
              "    </tr>\n",
              "    <tr>\n",
              "      <th>...</th>\n",
              "      <td>...</td>\n",
              "      <td>...</td>\n",
              "    </tr>\n",
              "    <tr>\n",
              "      <th>2023-02-17</th>\n",
              "      <td>152.550003</td>\n",
              "      <td>148.932480</td>\n",
              "    </tr>\n",
              "    <tr>\n",
              "      <th>2023-02-21</th>\n",
              "      <td>148.479996</td>\n",
              "      <td>147.889999</td>\n",
              "    </tr>\n",
              "    <tr>\n",
              "      <th>2023-02-22</th>\n",
              "      <td>148.910004</td>\n",
              "      <td>144.316437</td>\n",
              "    </tr>\n",
              "    <tr>\n",
              "      <th>2023-02-23</th>\n",
              "      <td>149.399994</td>\n",
              "      <td>144.291306</td>\n",
              "    </tr>\n",
              "    <tr>\n",
              "      <th>2023-02-24</th>\n",
              "      <td>146.710007</td>\n",
              "      <td>144.638840</td>\n",
              "    </tr>\n",
              "  </tbody>\n",
              "</table>\n",
              "<p>701 rows × 2 columns</p>\n",
              "</div>\n",
              "      <button class=\"colab-df-convert\" onclick=\"convertToInteractive('df-13ab42af-276e-4406-b871-4c5949bc5b93')\"\n",
              "              title=\"Convert this dataframe to an interactive table.\"\n",
              "              style=\"display:none;\">\n",
              "        \n",
              "  <svg xmlns=\"http://www.w3.org/2000/svg\" height=\"24px\"viewBox=\"0 0 24 24\"\n",
              "       width=\"24px\">\n",
              "    <path d=\"M0 0h24v24H0V0z\" fill=\"none\"/>\n",
              "    <path d=\"M18.56 5.44l.94 2.06.94-2.06 2.06-.94-2.06-.94-.94-2.06-.94 2.06-2.06.94zm-11 1L8.5 8.5l.94-2.06 2.06-.94-2.06-.94L8.5 2.5l-.94 2.06-2.06.94zm10 10l.94 2.06.94-2.06 2.06-.94-2.06-.94-.94-2.06-.94 2.06-2.06.94z\"/><path d=\"M17.41 7.96l-1.37-1.37c-.4-.4-.92-.59-1.43-.59-.52 0-1.04.2-1.43.59L10.3 9.45l-7.72 7.72c-.78.78-.78 2.05 0 2.83L4 21.41c.39.39.9.59 1.41.59.51 0 1.02-.2 1.41-.59l7.78-7.78 2.81-2.81c.8-.78.8-2.07 0-2.86zM5.41 20L4 18.59l7.72-7.72 1.47 1.35L5.41 20z\"/>\n",
              "  </svg>\n",
              "      </button>\n",
              "      \n",
              "  <style>\n",
              "    .colab-df-container {\n",
              "      display:flex;\n",
              "      flex-wrap:wrap;\n",
              "      gap: 12px;\n",
              "    }\n",
              "\n",
              "    .colab-df-convert {\n",
              "      background-color: #E8F0FE;\n",
              "      border: none;\n",
              "      border-radius: 50%;\n",
              "      cursor: pointer;\n",
              "      display: none;\n",
              "      fill: #1967D2;\n",
              "      height: 32px;\n",
              "      padding: 0 0 0 0;\n",
              "      width: 32px;\n",
              "    }\n",
              "\n",
              "    .colab-df-convert:hover {\n",
              "      background-color: #E2EBFA;\n",
              "      box-shadow: 0px 1px 2px rgba(60, 64, 67, 0.3), 0px 1px 3px 1px rgba(60, 64, 67, 0.15);\n",
              "      fill: #174EA6;\n",
              "    }\n",
              "\n",
              "    [theme=dark] .colab-df-convert {\n",
              "      background-color: #3B4455;\n",
              "      fill: #D2E3FC;\n",
              "    }\n",
              "\n",
              "    [theme=dark] .colab-df-convert:hover {\n",
              "      background-color: #434B5C;\n",
              "      box-shadow: 0px 1px 3px 1px rgba(0, 0, 0, 0.15);\n",
              "      filter: drop-shadow(0px 1px 2px rgba(0, 0, 0, 0.3));\n",
              "      fill: #FFFFFF;\n",
              "    }\n",
              "  </style>\n",
              "\n",
              "      <script>\n",
              "        const buttonEl =\n",
              "          document.querySelector('#df-13ab42af-276e-4406-b871-4c5949bc5b93 button.colab-df-convert');\n",
              "        buttonEl.style.display =\n",
              "          google.colab.kernel.accessAllowed ? 'block' : 'none';\n",
              "\n",
              "        async function convertToInteractive(key) {\n",
              "          const element = document.querySelector('#df-13ab42af-276e-4406-b871-4c5949bc5b93');\n",
              "          const dataTable =\n",
              "            await google.colab.kernel.invokeFunction('convertToInteractive',\n",
              "                                                     [key], {});\n",
              "          if (!dataTable) return;\n",
              "\n",
              "          const docLinkHtml = 'Like what you see? Visit the ' +\n",
              "            '<a target=\"_blank\" href=https://colab.research.google.com/notebooks/data_table.ipynb>data table notebook</a>'\n",
              "            + ' to learn more about interactive tables.';\n",
              "          element.innerHTML = '';\n",
              "          dataTable['output_type'] = 'display_data';\n",
              "          await google.colab.output.renderOutput(dataTable, element);\n",
              "          const docLink = document.createElement('div');\n",
              "          docLink.innerHTML = docLinkHtml;\n",
              "          element.appendChild(docLink);\n",
              "        }\n",
              "      </script>\n",
              "    </div>\n",
              "  </div>\n",
              "  "
            ]
          },
          "metadata": {},
          "execution_count": 15
        }
      ]
    }
  ]
}